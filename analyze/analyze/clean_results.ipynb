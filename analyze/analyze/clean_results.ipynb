{
 "cells": [
  {
   "cell_type": "code",
   "execution_count": 1,
   "id": "d6fbf3d5-4c8d-43e3-9901-0d6829698d9d",
   "metadata": {},
   "outputs": [],
   "source": [
    "import pandas as pd\n",
    "import seaborn as sb"
   ]
  },
  {
   "cell_type": "markdown",
   "id": "e2b11725-1442-4d76-87ad-87cf50c7c2f5",
   "metadata": {},
   "source": [
    "# Loan Bucket Data"
   ]
  },
  {
   "cell_type": "code",
   "execution_count": 2,
   "id": "f2cea605-f365-43ef-96fb-bb7b2863d154",
   "metadata": {},
   "outputs": [],
   "source": [
    "filename = \"data-for-facctrec - Loan_Bucket_5.csv\""
   ]
  },
  {
   "cell_type": "code",
   "execution_count": 3,
   "id": "d075aa9a-fc9b-4c62-a31c-4ed9c7d9719c",
   "metadata": {},
   "outputs": [
    {
     "data": {
      "text/html": [
       "<div>\n",
       "<style scoped>\n",
       "    .dataframe tbody tr th:only-of-type {\n",
       "        vertical-align: middle;\n",
       "    }\n",
       "\n",
       "    .dataframe tbody tr th {\n",
       "        vertical-align: top;\n",
       "    }\n",
       "\n",
       "    .dataframe thead th {\n",
       "        text-align: right;\n",
       "    }\n",
       "</style>\n",
       "<table border=\"1\" class=\"dataframe\">\n",
       "  <thead>\n",
       "    <tr style=\"text-align: right;\">\n",
       "      <th></th>\n",
       "      <th>0</th>\n",
       "      <th>1</th>\n",
       "      <th>2</th>\n",
       "      <th>3</th>\n",
       "      <th>4</th>\n",
       "      <th>5</th>\n",
       "    </tr>\n",
       "  </thead>\n",
       "  <tbody>\n",
       "    <tr>\n",
       "      <th>0</th>\n",
       "      <td>BPR</td>\n",
       "      <td>NaN</td>\n",
       "      <td>0.0658</td>\n",
       "      <td>-0.828</td>\n",
       "      <td>Original</td>\n",
       "      <td>NaN</td>\n",
       "    </tr>\n",
       "    <tr>\n",
       "      <th>1</th>\n",
       "      <td>BMF</td>\n",
       "      <td>NaN</td>\n",
       "      <td>0.0325</td>\n",
       "      <td>-0.628</td>\n",
       "      <td>Original</td>\n",
       "      <td>NaN</td>\n",
       "    </tr>\n",
       "    <tr>\n",
       "      <th>2</th>\n",
       "      <td>SLIM</td>\n",
       "      <td>NaN</td>\n",
       "      <td>0.0167</td>\n",
       "      <td>-0.773</td>\n",
       "      <td>Original</td>\n",
       "      <td>NaN</td>\n",
       "    </tr>\n",
       "    <tr>\n",
       "      <th>3</th>\n",
       "      <td>RankALS</td>\n",
       "      <td>NaN</td>\n",
       "      <td>0.0554</td>\n",
       "      <td>-0.723</td>\n",
       "      <td>Original</td>\n",
       "      <td>NaN</td>\n",
       "    </tr>\n",
       "    <tr>\n",
       "      <th>4</th>\n",
       "      <td>NaN</td>\n",
       "      <td>NaN</td>\n",
       "      <td>NaN</td>\n",
       "      <td>NaN</td>\n",
       "      <td>NaN</td>\n",
       "      <td>NaN</td>\n",
       "    </tr>\n",
       "  </tbody>\n",
       "</table>\n",
       "</div>"
      ],
      "text/plain": [
       "         0    1       2      3         4    5\n",
       "0      BPR  NaN  0.0658 -0.828  Original  NaN\n",
       "1      BMF  NaN  0.0325 -0.628  Original  NaN\n",
       "2     SLIM  NaN  0.0167 -0.773  Original  NaN\n",
       "3  RankALS  NaN  0.0554 -0.723  Original  NaN\n",
       "4      NaN  NaN     NaN    NaN       NaN  NaN"
      ]
     },
     "execution_count": 3,
     "metadata": {},
     "output_type": "execute_result"
    }
   ],
   "source": [
    "raw_bucket_df = pd.read_csv(filename, header=None)\n",
    "raw_bucket_df.head()"
   ]
  },
  {
   "cell_type": "code",
   "execution_count": 4,
   "id": "2617ced9-9edf-4f19-b463-ec5e39c7c74d",
   "metadata": {},
   "outputs": [],
   "source": [
    "raw_bucket_df.columns = ['Base', 'Reranker', 'NDCG', 'PSP', 'Optimization', 'Protected']"
   ]
  },
  {
   "cell_type": "markdown",
   "id": "046d264c-0d52-46eb-ae70-faed6398ab1b",
   "metadata": {},
   "source": [
    "## Handle substitutions"
   ]
  },
  {
   "cell_type": "code",
   "execution_count": 5,
   "id": "da61904f-a278-416a-8edc-163c3c2cdc0c",
   "metadata": {},
   "outputs": [],
   "source": [
    "raw_bucket_df.dropna(axis=0, how='all', inplace=True)"
   ]
  },
  {
   "cell_type": "code",
   "execution_count": 6,
   "id": "d567a237-af8e-4524-8d86-234af83e0771",
   "metadata": {},
   "outputs": [],
   "source": [
    "raw_bucket_df.fillna({'Reranker':'None', 'NDCG': 1.0, 'PSP': 2.0, 'Protected Feature': 'None'}, inplace=True)"
   ]
  },
  {
   "cell_type": "code",
   "execution_count": 7,
   "id": "6c8ad160-b5a0-4bab-8fb7-0878892f665b",
   "metadata": {},
   "outputs": [],
   "source": [
    "raw_bucket_df['Reranker'].replace('FairStar', 'FA*IR', inplace=True)"
   ]
  },
  {
   "cell_type": "code",
   "execution_count": 8,
   "id": "ba66f085-4e8a-4695-8469-232e93d6e043",
   "metadata": {
    "tags": []
   },
   "outputs": [
    {
     "data": {
      "text/html": [
       "<div>\n",
       "<style scoped>\n",
       "    .dataframe tbody tr th:only-of-type {\n",
       "        vertical-align: middle;\n",
       "    }\n",
       "\n",
       "    .dataframe tbody tr th {\n",
       "        vertical-align: top;\n",
       "    }\n",
       "\n",
       "    .dataframe thead th {\n",
       "        text-align: right;\n",
       "    }\n",
       "</style>\n",
       "<table border=\"1\" class=\"dataframe\">\n",
       "  <thead>\n",
       "    <tr style=\"text-align: right;\">\n",
       "      <th></th>\n",
       "      <th>Base</th>\n",
       "      <th>Reranker</th>\n",
       "      <th>NDCG</th>\n",
       "      <th>PSP</th>\n",
       "      <th>Optimization</th>\n",
       "      <th>Protected</th>\n",
       "    </tr>\n",
       "  </thead>\n",
       "  <tbody>\n",
       "    <tr>\n",
       "      <th>0</th>\n",
       "      <td>BPR</td>\n",
       "      <td>None</td>\n",
       "      <td>0.0658</td>\n",
       "      <td>-0.828</td>\n",
       "      <td>Original</td>\n",
       "      <td>NaN</td>\n",
       "    </tr>\n",
       "    <tr>\n",
       "      <th>1</th>\n",
       "      <td>BMF</td>\n",
       "      <td>None</td>\n",
       "      <td>0.0325</td>\n",
       "      <td>-0.628</td>\n",
       "      <td>Original</td>\n",
       "      <td>NaN</td>\n",
       "    </tr>\n",
       "    <tr>\n",
       "      <th>2</th>\n",
       "      <td>SLIM</td>\n",
       "      <td>None</td>\n",
       "      <td>0.0167</td>\n",
       "      <td>-0.773</td>\n",
       "      <td>Original</td>\n",
       "      <td>NaN</td>\n",
       "    </tr>\n",
       "    <tr>\n",
       "      <th>3</th>\n",
       "      <td>RankALS</td>\n",
       "      <td>None</td>\n",
       "      <td>0.0554</td>\n",
       "      <td>-0.723</td>\n",
       "      <td>Original</td>\n",
       "      <td>NaN</td>\n",
       "    </tr>\n",
       "    <tr>\n",
       "      <th>5</th>\n",
       "      <td>BPR</td>\n",
       "      <td>FAR</td>\n",
       "      <td>0.0595</td>\n",
       "      <td>-0.328</td>\n",
       "      <td>Separate</td>\n",
       "      <td>Loan Bucket 5</td>\n",
       "    </tr>\n",
       "  </tbody>\n",
       "</table>\n",
       "</div>"
      ],
      "text/plain": [
       "      Base Reranker    NDCG    PSP Optimization      Protected\n",
       "0      BPR     None  0.0658 -0.828     Original            NaN\n",
       "1      BMF     None  0.0325 -0.628     Original            NaN\n",
       "2     SLIM     None  0.0167 -0.773     Original            NaN\n",
       "3  RankALS     None  0.0554 -0.723     Original            NaN\n",
       "5      BPR      FAR  0.0595 -0.328     Separate  Loan Bucket 5"
      ]
     },
     "execution_count": 8,
     "metadata": {},
     "output_type": "execute_result"
    }
   ],
   "source": [
    "raw_bucket_df.head()"
   ]
  },
  {
   "cell_type": "markdown",
   "id": "4074a79d-6562-4f03-ab9b-86dbddd51438",
   "metadata": {},
   "source": [
    "## Melt to get _long_ data"
   ]
  },
  {
   "cell_type": "code",
   "execution_count": 9,
   "id": "1daa25af-09f3-4d70-96a1-9ad0220a5120",
   "metadata": {},
   "outputs": [],
   "source": [
    "long_bucket_df = raw_bucket_df.melt(id_vars=['Base', 'Reranker', 'Optimization', 'Protected'], value_vars=['NDCG', 'PSP'], \n",
    "                     var_name='Metric', value_name='Value')"
   ]
  },
  {
   "cell_type": "code",
   "execution_count": 10,
   "id": "c8a12f26-a8f8-4478-8d8a-8e2862557ca5",
   "metadata": {},
   "outputs": [
    {
     "data": {
      "text/html": [
       "<div>\n",
       "<style scoped>\n",
       "    .dataframe tbody tr th:only-of-type {\n",
       "        vertical-align: middle;\n",
       "    }\n",
       "\n",
       "    .dataframe tbody tr th {\n",
       "        vertical-align: top;\n",
       "    }\n",
       "\n",
       "    .dataframe thead th {\n",
       "        text-align: right;\n",
       "    }\n",
       "</style>\n",
       "<table border=\"1\" class=\"dataframe\">\n",
       "  <thead>\n",
       "    <tr style=\"text-align: right;\">\n",
       "      <th></th>\n",
       "      <th>Base</th>\n",
       "      <th>Reranker</th>\n",
       "      <th>Optimization</th>\n",
       "      <th>Protected</th>\n",
       "      <th>Metric</th>\n",
       "      <th>Value</th>\n",
       "    </tr>\n",
       "  </thead>\n",
       "  <tbody>\n",
       "    <tr>\n",
       "      <th>0</th>\n",
       "      <td>BPR</td>\n",
       "      <td>None</td>\n",
       "      <td>Original</td>\n",
       "      <td>NaN</td>\n",
       "      <td>NDCG</td>\n",
       "      <td>0.0658</td>\n",
       "    </tr>\n",
       "    <tr>\n",
       "      <th>1</th>\n",
       "      <td>BMF</td>\n",
       "      <td>None</td>\n",
       "      <td>Original</td>\n",
       "      <td>NaN</td>\n",
       "      <td>NDCG</td>\n",
       "      <td>0.0325</td>\n",
       "    </tr>\n",
       "    <tr>\n",
       "      <th>2</th>\n",
       "      <td>SLIM</td>\n",
       "      <td>None</td>\n",
       "      <td>Original</td>\n",
       "      <td>NaN</td>\n",
       "      <td>NDCG</td>\n",
       "      <td>0.0167</td>\n",
       "    </tr>\n",
       "    <tr>\n",
       "      <th>3</th>\n",
       "      <td>RankALS</td>\n",
       "      <td>None</td>\n",
       "      <td>Original</td>\n",
       "      <td>NaN</td>\n",
       "      <td>NDCG</td>\n",
       "      <td>0.0554</td>\n",
       "    </tr>\n",
       "    <tr>\n",
       "      <th>4</th>\n",
       "      <td>BPR</td>\n",
       "      <td>FAR</td>\n",
       "      <td>Separate</td>\n",
       "      <td>Loan Bucket 5</td>\n",
       "      <td>NDCG</td>\n",
       "      <td>0.0595</td>\n",
       "    </tr>\n",
       "  </tbody>\n",
       "</table>\n",
       "</div>"
      ],
      "text/plain": [
       "      Base Reranker Optimization      Protected Metric   Value\n",
       "0      BPR     None     Original            NaN   NDCG  0.0658\n",
       "1      BMF     None     Original            NaN   NDCG  0.0325\n",
       "2     SLIM     None     Original            NaN   NDCG  0.0167\n",
       "3  RankALS     None     Original            NaN   NDCG  0.0554\n",
       "4      BPR      FAR     Separate  Loan Bucket 5   NDCG  0.0595"
      ]
     },
     "execution_count": 10,
     "metadata": {},
     "output_type": "execute_result"
    }
   ],
   "source": [
    "long_bucket_df.head()"
   ]
  },
  {
   "cell_type": "markdown",
   "id": "50d1c108-b6bc-475d-9148-f3fb7092168a",
   "metadata": {},
   "source": [
    "# Country data"
   ]
  },
  {
   "cell_type": "code",
   "execution_count": 11,
   "id": "9263888c-2e35-4858-8a71-90e4c3d0670a",
   "metadata": {},
   "outputs": [],
   "source": [
    "filename = \"data-for-facctrec - COUNTRY_low_pfr.csv\""
   ]
  },
  {
   "cell_type": "code",
   "execution_count": 12,
   "id": "c2e296a3-6a67-45c0-ba77-d6f96f81ab69",
   "metadata": {},
   "outputs": [
    {
     "data": {
      "text/html": [
       "<div>\n",
       "<style scoped>\n",
       "    .dataframe tbody tr th:only-of-type {\n",
       "        vertical-align: middle;\n",
       "    }\n",
       "\n",
       "    .dataframe tbody tr th {\n",
       "        vertical-align: top;\n",
       "    }\n",
       "\n",
       "    .dataframe thead th {\n",
       "        text-align: right;\n",
       "    }\n",
       "</style>\n",
       "<table border=\"1\" class=\"dataframe\">\n",
       "  <thead>\n",
       "    <tr style=\"text-align: right;\">\n",
       "      <th></th>\n",
       "      <th>0</th>\n",
       "      <th>1</th>\n",
       "      <th>2</th>\n",
       "      <th>3</th>\n",
       "      <th>4</th>\n",
       "      <th>5</th>\n",
       "    </tr>\n",
       "  </thead>\n",
       "  <tbody>\n",
       "    <tr>\n",
       "      <th>0</th>\n",
       "      <td>BPR</td>\n",
       "      <td>NaN</td>\n",
       "      <td>0.0658</td>\n",
       "      <td>-0.965</td>\n",
       "      <td>Original</td>\n",
       "      <td>COUNTRY_low_pfr</td>\n",
       "    </tr>\n",
       "    <tr>\n",
       "      <th>1</th>\n",
       "      <td>BMF</td>\n",
       "      <td>NaN</td>\n",
       "      <td>0.0325</td>\n",
       "      <td>-0.727</td>\n",
       "      <td>Original</td>\n",
       "      <td>COUNTRY_low_pfr</td>\n",
       "    </tr>\n",
       "    <tr>\n",
       "      <th>2</th>\n",
       "      <td>SLIM</td>\n",
       "      <td>NaN</td>\n",
       "      <td>0.0167</td>\n",
       "      <td>-0.719</td>\n",
       "      <td>Original</td>\n",
       "      <td>COUNTRY_low_pfr</td>\n",
       "    </tr>\n",
       "    <tr>\n",
       "      <th>3</th>\n",
       "      <td>RankALS</td>\n",
       "      <td>NaN</td>\n",
       "      <td>0.0554</td>\n",
       "      <td>-0.723</td>\n",
       "      <td>Original</td>\n",
       "      <td>COUNTRY_low_pfr</td>\n",
       "    </tr>\n",
       "    <tr>\n",
       "      <th>4</th>\n",
       "      <td>NaN</td>\n",
       "      <td>NaN</td>\n",
       "      <td>NaN</td>\n",
       "      <td>NaN</td>\n",
       "      <td>NaN</td>\n",
       "      <td>NaN</td>\n",
       "    </tr>\n",
       "  </tbody>\n",
       "</table>\n",
       "</div>"
      ],
      "text/plain": [
       "         0    1       2      3         4                5\n",
       "0      BPR  NaN  0.0658 -0.965  Original  COUNTRY_low_pfr\n",
       "1      BMF  NaN  0.0325 -0.727  Original  COUNTRY_low_pfr\n",
       "2     SLIM  NaN  0.0167 -0.719  Original  COUNTRY_low_pfr\n",
       "3  RankALS  NaN  0.0554 -0.723  Original  COUNTRY_low_pfr\n",
       "4      NaN  NaN     NaN    NaN       NaN              NaN"
      ]
     },
     "execution_count": 12,
     "metadata": {},
     "output_type": "execute_result"
    }
   ],
   "source": [
    "raw_country_df = pd.read_csv(filename, header=None)\n",
    "raw_country_df.head()"
   ]
  },
  {
   "cell_type": "code",
   "execution_count": 13,
   "id": "5ff01da0-b41b-47e0-ba28-61793e72bdc4",
   "metadata": {},
   "outputs": [],
   "source": [
    "raw_country_df.columns = ['Base', 'Reranker', 'NDCG', 'PSP', 'Optimization', 'Protected']"
   ]
  },
  {
   "cell_type": "markdown",
   "id": "04a80fcc-772b-4bae-a6b9-e10131c091ba",
   "metadata": {},
   "source": [
    "## Handle substitutions"
   ]
  },
  {
   "cell_type": "code",
   "execution_count": 14,
   "id": "ddf33c2a-d81e-4c70-84ac-0e2ff7fe2c54",
   "metadata": {},
   "outputs": [],
   "source": [
    "raw_country_df.dropna(axis=0, how='all', inplace=True)"
   ]
  },
  {
   "cell_type": "code",
   "execution_count": 15,
   "id": "9ab7ecd5-7715-417b-97d4-5f2569f645a1",
   "metadata": {},
   "outputs": [],
   "source": [
    "raw_country_df.fillna({'Reranker':'None', 'NDCG': 1.0, 'PSP': 2.0, 'Protected Feature': 'None'}, inplace=True)"
   ]
  },
  {
   "cell_type": "code",
   "execution_count": 16,
   "id": "fa6f12b3-967c-470d-ac95-45e28245cb4d",
   "metadata": {},
   "outputs": [],
   "source": [
    "raw_country_df['Reranker'].replace('FairStar', 'FA*IR', inplace=True)"
   ]
  },
  {
   "cell_type": "code",
   "execution_count": 17,
   "id": "ca345cef-a09a-4d77-b2af-9ec3c1fade7a",
   "metadata": {},
   "outputs": [],
   "source": [
    "raw_country_df['Protected'].replace('COUNTRY_low_pfr', 'Country', inplace=True)"
   ]
  },
  {
   "cell_type": "code",
   "execution_count": 18,
   "id": "01282317-1e7d-4252-aec4-632522c8e206",
   "metadata": {
    "tags": []
   },
   "outputs": [
    {
     "data": {
      "text/html": [
       "<div>\n",
       "<style scoped>\n",
       "    .dataframe tbody tr th:only-of-type {\n",
       "        vertical-align: middle;\n",
       "    }\n",
       "\n",
       "    .dataframe tbody tr th {\n",
       "        vertical-align: top;\n",
       "    }\n",
       "\n",
       "    .dataframe thead th {\n",
       "        text-align: right;\n",
       "    }\n",
       "</style>\n",
       "<table border=\"1\" class=\"dataframe\">\n",
       "  <thead>\n",
       "    <tr style=\"text-align: right;\">\n",
       "      <th></th>\n",
       "      <th>Base</th>\n",
       "      <th>Reranker</th>\n",
       "      <th>NDCG</th>\n",
       "      <th>PSP</th>\n",
       "      <th>Optimization</th>\n",
       "      <th>Protected</th>\n",
       "    </tr>\n",
       "  </thead>\n",
       "  <tbody>\n",
       "    <tr>\n",
       "      <th>0</th>\n",
       "      <td>BPR</td>\n",
       "      <td>None</td>\n",
       "      <td>0.0658</td>\n",
       "      <td>-0.965</td>\n",
       "      <td>Original</td>\n",
       "      <td>Country</td>\n",
       "    </tr>\n",
       "    <tr>\n",
       "      <th>1</th>\n",
       "      <td>BMF</td>\n",
       "      <td>None</td>\n",
       "      <td>0.0325</td>\n",
       "      <td>-0.727</td>\n",
       "      <td>Original</td>\n",
       "      <td>Country</td>\n",
       "    </tr>\n",
       "    <tr>\n",
       "      <th>2</th>\n",
       "      <td>SLIM</td>\n",
       "      <td>None</td>\n",
       "      <td>0.0167</td>\n",
       "      <td>-0.719</td>\n",
       "      <td>Original</td>\n",
       "      <td>Country</td>\n",
       "    </tr>\n",
       "    <tr>\n",
       "      <th>3</th>\n",
       "      <td>RankALS</td>\n",
       "      <td>None</td>\n",
       "      <td>0.0554</td>\n",
       "      <td>-0.723</td>\n",
       "      <td>Original</td>\n",
       "      <td>Country</td>\n",
       "    </tr>\n",
       "    <tr>\n",
       "      <th>5</th>\n",
       "      <td>BPR</td>\n",
       "      <td>FAR</td>\n",
       "      <td>0.0642</td>\n",
       "      <td>-0.512</td>\n",
       "      <td>Separate</td>\n",
       "      <td>Country</td>\n",
       "    </tr>\n",
       "  </tbody>\n",
       "</table>\n",
       "</div>"
      ],
      "text/plain": [
       "      Base Reranker    NDCG    PSP Optimization Protected\n",
       "0      BPR     None  0.0658 -0.965     Original   Country\n",
       "1      BMF     None  0.0325 -0.727     Original   Country\n",
       "2     SLIM     None  0.0167 -0.719     Original   Country\n",
       "3  RankALS     None  0.0554 -0.723     Original   Country\n",
       "5      BPR      FAR  0.0642 -0.512     Separate   Country"
      ]
     },
     "execution_count": 18,
     "metadata": {},
     "output_type": "execute_result"
    }
   ],
   "source": [
    "raw_country_df.head()"
   ]
  },
  {
   "cell_type": "markdown",
   "id": "56d3651c-291f-4705-bd21-2f4d45844d8d",
   "metadata": {},
   "source": [
    "## Melt to get _long_ data"
   ]
  },
  {
   "cell_type": "code",
   "execution_count": 19,
   "id": "aa795989-a34d-4547-887f-55fa8d898db3",
   "metadata": {},
   "outputs": [],
   "source": [
    "long_country_df = raw_country_df.melt(id_vars=['Base', 'Reranker', 'Optimization', 'Protected'], value_vars=['NDCG', 'PSP'], \n",
    "                     var_name='Metric', value_name='Value')"
   ]
  },
  {
   "cell_type": "code",
   "execution_count": 20,
   "id": "f1885c84-70f8-4f08-acb9-42f0e3253be0",
   "metadata": {},
   "outputs": [
    {
     "data": {
      "text/html": [
       "<div>\n",
       "<style scoped>\n",
       "    .dataframe tbody tr th:only-of-type {\n",
       "        vertical-align: middle;\n",
       "    }\n",
       "\n",
       "    .dataframe tbody tr th {\n",
       "        vertical-align: top;\n",
       "    }\n",
       "\n",
       "    .dataframe thead th {\n",
       "        text-align: right;\n",
       "    }\n",
       "</style>\n",
       "<table border=\"1\" class=\"dataframe\">\n",
       "  <thead>\n",
       "    <tr style=\"text-align: right;\">\n",
       "      <th></th>\n",
       "      <th>Base</th>\n",
       "      <th>Reranker</th>\n",
       "      <th>Optimization</th>\n",
       "      <th>Protected</th>\n",
       "      <th>Metric</th>\n",
       "      <th>Value</th>\n",
       "    </tr>\n",
       "  </thead>\n",
       "  <tbody>\n",
       "    <tr>\n",
       "      <th>0</th>\n",
       "      <td>BPR</td>\n",
       "      <td>None</td>\n",
       "      <td>Original</td>\n",
       "      <td>Country</td>\n",
       "      <td>NDCG</td>\n",
       "      <td>0.0658</td>\n",
       "    </tr>\n",
       "    <tr>\n",
       "      <th>1</th>\n",
       "      <td>BMF</td>\n",
       "      <td>None</td>\n",
       "      <td>Original</td>\n",
       "      <td>Country</td>\n",
       "      <td>NDCG</td>\n",
       "      <td>0.0325</td>\n",
       "    </tr>\n",
       "    <tr>\n",
       "      <th>2</th>\n",
       "      <td>SLIM</td>\n",
       "      <td>None</td>\n",
       "      <td>Original</td>\n",
       "      <td>Country</td>\n",
       "      <td>NDCG</td>\n",
       "      <td>0.0167</td>\n",
       "    </tr>\n",
       "    <tr>\n",
       "      <th>3</th>\n",
       "      <td>RankALS</td>\n",
       "      <td>None</td>\n",
       "      <td>Original</td>\n",
       "      <td>Country</td>\n",
       "      <td>NDCG</td>\n",
       "      <td>0.0554</td>\n",
       "    </tr>\n",
       "    <tr>\n",
       "      <th>4</th>\n",
       "      <td>BPR</td>\n",
       "      <td>FAR</td>\n",
       "      <td>Separate</td>\n",
       "      <td>Country</td>\n",
       "      <td>NDCG</td>\n",
       "      <td>0.0642</td>\n",
       "    </tr>\n",
       "  </tbody>\n",
       "</table>\n",
       "</div>"
      ],
      "text/plain": [
       "      Base Reranker Optimization Protected Metric   Value\n",
       "0      BPR     None     Original   Country   NDCG  0.0658\n",
       "1      BMF     None     Original   Country   NDCG  0.0325\n",
       "2     SLIM     None     Original   Country   NDCG  0.0167\n",
       "3  RankALS     None     Original   Country   NDCG  0.0554\n",
       "4      BPR      FAR     Separate   Country   NDCG  0.0642"
      ]
     },
     "execution_count": 20,
     "metadata": {},
     "output_type": "execute_result"
    }
   ],
   "source": [
    "long_country_df.head()"
   ]
  },
  {
   "cell_type": "markdown",
   "id": "a4f4b936-45e5-4a33-9f03-9fc2f60ce677",
   "metadata": {
    "tags": []
   },
   "source": [
    "# Combine and save"
   ]
  },
  {
   "cell_type": "code",
   "execution_count": 21,
   "id": "12d6d5bf-eaa8-4525-931f-fd23621858fc",
   "metadata": {},
   "outputs": [],
   "source": [
    "long_df = pd.concat([long_bucket_df, long_country_df])"
   ]
  },
  {
   "cell_type": "code",
   "execution_count": 22,
   "id": "ad627007-662b-4060-9380-3bb40c0c4e1e",
   "metadata": {},
   "outputs": [],
   "source": [
    "long_df.to_csv('optimization-experiments.csv', index=False)"
   ]
  },
  {
   "cell_type": "code",
   "execution_count": 23,
   "id": "3283748c-a307-4e3c-887f-2134db33223e",
   "metadata": {},
   "outputs": [
    {
     "data": {
      "text/html": [
       "<div>\n",
       "<style scoped>\n",
       "    .dataframe tbody tr th:only-of-type {\n",
       "        vertical-align: middle;\n",
       "    }\n",
       "\n",
       "    .dataframe tbody tr th {\n",
       "        vertical-align: top;\n",
       "    }\n",
       "\n",
       "    .dataframe thead th {\n",
       "        text-align: right;\n",
       "    }\n",
       "</style>\n",
       "<table border=\"1\" class=\"dataframe\">\n",
       "  <thead>\n",
       "    <tr style=\"text-align: right;\">\n",
       "      <th></th>\n",
       "      <th>Base</th>\n",
       "      <th>Reranker</th>\n",
       "      <th>Optimization</th>\n",
       "      <th>Protected</th>\n",
       "      <th>Metric</th>\n",
       "      <th>Value</th>\n",
       "    </tr>\n",
       "  </thead>\n",
       "  <tbody>\n",
       "    <tr>\n",
       "      <th>0</th>\n",
       "      <td>BPR</td>\n",
       "      <td>None</td>\n",
       "      <td>Original</td>\n",
       "      <td>NaN</td>\n",
       "      <td>NDCG</td>\n",
       "      <td>0.0658</td>\n",
       "    </tr>\n",
       "    <tr>\n",
       "      <th>1</th>\n",
       "      <td>BMF</td>\n",
       "      <td>None</td>\n",
       "      <td>Original</td>\n",
       "      <td>NaN</td>\n",
       "      <td>NDCG</td>\n",
       "      <td>0.0325</td>\n",
       "    </tr>\n",
       "    <tr>\n",
       "      <th>2</th>\n",
       "      <td>SLIM</td>\n",
       "      <td>None</td>\n",
       "      <td>Original</td>\n",
       "      <td>NaN</td>\n",
       "      <td>NDCG</td>\n",
       "      <td>0.0167</td>\n",
       "    </tr>\n",
       "    <tr>\n",
       "      <th>3</th>\n",
       "      <td>RankALS</td>\n",
       "      <td>None</td>\n",
       "      <td>Original</td>\n",
       "      <td>NaN</td>\n",
       "      <td>NDCG</td>\n",
       "      <td>0.0554</td>\n",
       "    </tr>\n",
       "    <tr>\n",
       "      <th>4</th>\n",
       "      <td>BPR</td>\n",
       "      <td>FAR</td>\n",
       "      <td>Separate</td>\n",
       "      <td>Loan Bucket 5</td>\n",
       "      <td>NDCG</td>\n",
       "      <td>0.0595</td>\n",
       "    </tr>\n",
       "    <tr>\n",
       "      <th>...</th>\n",
       "      <td>...</td>\n",
       "      <td>...</td>\n",
       "      <td>...</td>\n",
       "      <td>...</td>\n",
       "      <td>...</td>\n",
       "      <td>...</td>\n",
       "    </tr>\n",
       "    <tr>\n",
       "      <th>99</th>\n",
       "      <td>RankALS</td>\n",
       "      <td>FA*IR</td>\n",
       "      <td>Joint-2%</td>\n",
       "      <td>Country</td>\n",
       "      <td>PSP</td>\n",
       "      <td>2.0000</td>\n",
       "    </tr>\n",
       "    <tr>\n",
       "      <th>100</th>\n",
       "      <td>BPR</td>\n",
       "      <td>PFAR</td>\n",
       "      <td>Joint-2%</td>\n",
       "      <td>Country</td>\n",
       "      <td>PSP</td>\n",
       "      <td>2.0000</td>\n",
       "    </tr>\n",
       "    <tr>\n",
       "      <th>101</th>\n",
       "      <td>BMF</td>\n",
       "      <td>PFAR</td>\n",
       "      <td>Joint-2%</td>\n",
       "      <td>Country</td>\n",
       "      <td>PSP</td>\n",
       "      <td>2.0000</td>\n",
       "    </tr>\n",
       "    <tr>\n",
       "      <th>102</th>\n",
       "      <td>SLIM</td>\n",
       "      <td>PFAR</td>\n",
       "      <td>Joint-2%</td>\n",
       "      <td>Country</td>\n",
       "      <td>PSP</td>\n",
       "      <td>2.0000</td>\n",
       "    </tr>\n",
       "    <tr>\n",
       "      <th>103</th>\n",
       "      <td>RankALS</td>\n",
       "      <td>PFAR</td>\n",
       "      <td>Joint-2%</td>\n",
       "      <td>Country</td>\n",
       "      <td>PSP</td>\n",
       "      <td>2.0000</td>\n",
       "    </tr>\n",
       "  </tbody>\n",
       "</table>\n",
       "<p>208 rows × 6 columns</p>\n",
       "</div>"
      ],
      "text/plain": [
       "        Base Reranker Optimization      Protected Metric   Value\n",
       "0        BPR     None     Original            NaN   NDCG  0.0658\n",
       "1        BMF     None     Original            NaN   NDCG  0.0325\n",
       "2       SLIM     None     Original            NaN   NDCG  0.0167\n",
       "3    RankALS     None     Original            NaN   NDCG  0.0554\n",
       "4        BPR      FAR     Separate  Loan Bucket 5   NDCG  0.0595\n",
       "..       ...      ...          ...            ...    ...     ...\n",
       "99   RankALS    FA*IR     Joint-2%        Country    PSP  2.0000\n",
       "100      BPR     PFAR     Joint-2%        Country    PSP  2.0000\n",
       "101      BMF     PFAR     Joint-2%        Country    PSP  2.0000\n",
       "102     SLIM     PFAR     Joint-2%        Country    PSP  2.0000\n",
       "103  RankALS     PFAR     Joint-2%        Country    PSP  2.0000\n",
       "\n",
       "[208 rows x 6 columns]"
      ]
     },
     "execution_count": 23,
     "metadata": {},
     "output_type": "execute_result"
    }
   ],
   "source": [
    "long_df"
   ]
  },
  {
   "cell_type": "code",
   "execution_count": null,
   "id": "b6c49944-797b-4053-ab9c-e9125bd01551",
   "metadata": {},
   "outputs": [],
   "source": []
  }
 ],
 "metadata": {
  "kernelspec": {
   "display_name": "Python 3 (ipykernel)",
   "language": "python",
   "name": "python3"
  },
  "language_info": {
   "codemirror_mode": {
    "name": "ipython",
    "version": 3
   },
   "file_extension": ".py",
   "mimetype": "text/x-python",
   "name": "python",
   "nbconvert_exporter": "python",
   "pygments_lexer": "ipython3",
   "version": "3.9.7"
  }
 },
 "nbformat": 4,
 "nbformat_minor": 5
}

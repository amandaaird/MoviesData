{
 "cells": [
  {
   "cell_type": "code",
   "execution_count": 24,
   "id": "82d0fa8a-61a8-4a8a-83e4-3c6fb93130a0",
   "metadata": {},
   "outputs": [],
   "source": [
    "import pandas as pd\n",
    "import seaborn as sb\n",
    "import matplotlib.pyplot as plt"
   ]
  },
  {
   "cell_type": "code",
   "execution_count": 55,
   "id": "9fabb298-3893-48b6-a201-6484a87a4c0d",
   "metadata": {},
   "outputs": [],
   "source": [
    "experiment_data = pd.read_csv(\"optimization-experiments.csv\")"
   ]
  },
  {
   "cell_type": "code",
   "execution_count": 56,
   "id": "c5338ad1-8d11-4fa1-a5e8-e7651104acc7",
   "metadata": {},
   "outputs": [
    {
     "data": {
      "text/html": [
       "<div>\n",
       "<style scoped>\n",
       "    .dataframe tbody tr th:only-of-type {\n",
       "        vertical-align: middle;\n",
       "    }\n",
       "\n",
       "    .dataframe tbody tr th {\n",
       "        vertical-align: top;\n",
       "    }\n",
       "\n",
       "    .dataframe thead th {\n",
       "        text-align: right;\n",
       "    }\n",
       "</style>\n",
       "<table border=\"1\" class=\"dataframe\">\n",
       "  <thead>\n",
       "    <tr style=\"text-align: right;\">\n",
       "      <th></th>\n",
       "      <th>Base</th>\n",
       "      <th>Reranker</th>\n",
       "      <th>Optimization</th>\n",
       "      <th>Protected</th>\n",
       "      <th>Metric</th>\n",
       "      <th>Value</th>\n",
       "    </tr>\n",
       "  </thead>\n",
       "  <tbody>\n",
       "    <tr>\n",
       "      <th>0</th>\n",
       "      <td>BPR</td>\n",
       "      <td>None</td>\n",
       "      <td>Original</td>\n",
       "      <td>NaN</td>\n",
       "      <td>NDCG</td>\n",
       "      <td>0.0658</td>\n",
       "    </tr>\n",
       "    <tr>\n",
       "      <th>1</th>\n",
       "      <td>BMF</td>\n",
       "      <td>None</td>\n",
       "      <td>Original</td>\n",
       "      <td>NaN</td>\n",
       "      <td>NDCG</td>\n",
       "      <td>0.0325</td>\n",
       "    </tr>\n",
       "    <tr>\n",
       "      <th>2</th>\n",
       "      <td>SLIM</td>\n",
       "      <td>None</td>\n",
       "      <td>Original</td>\n",
       "      <td>NaN</td>\n",
       "      <td>NDCG</td>\n",
       "      <td>0.0167</td>\n",
       "    </tr>\n",
       "    <tr>\n",
       "      <th>3</th>\n",
       "      <td>RankALS</td>\n",
       "      <td>None</td>\n",
       "      <td>Original</td>\n",
       "      <td>NaN</td>\n",
       "      <td>NDCG</td>\n",
       "      <td>0.0554</td>\n",
       "    </tr>\n",
       "    <tr>\n",
       "      <th>4</th>\n",
       "      <td>BPR</td>\n",
       "      <td>FAR</td>\n",
       "      <td>Separate</td>\n",
       "      <td>Loan Bucket 5</td>\n",
       "      <td>NDCG</td>\n",
       "      <td>0.0595</td>\n",
       "    </tr>\n",
       "  </tbody>\n",
       "</table>\n",
       "</div>"
      ],
      "text/plain": [
       "      Base Reranker Optimization      Protected Metric   Value\n",
       "0      BPR     None     Original            NaN   NDCG  0.0658\n",
       "1      BMF     None     Original            NaN   NDCG  0.0325\n",
       "2     SLIM     None     Original            NaN   NDCG  0.0167\n",
       "3  RankALS     None     Original            NaN   NDCG  0.0554\n",
       "4      BPR      FAR     Separate  Loan Bucket 5   NDCG  0.0595"
      ]
     },
     "execution_count": 56,
     "metadata": {},
     "output_type": "execute_result"
    }
   ],
   "source": [
    "experiment_data.head()"
   ]
  },
  {
   "cell_type": "code",
   "execution_count": 57,
   "id": "73c96cca-bf88-4362-845c-55335f20153d",
   "metadata": {},
   "outputs": [],
   "source": [
    "experiment_data['Protected'].fillna('None', inplace=True)"
   ]
  },
  {
   "cell_type": "code",
   "execution_count": 58,
   "id": "92c42096-9a5a-4f58-b2cd-afa7921d1221",
   "metadata": {},
   "outputs": [],
   "source": [
    "pvt_df = experiment_data.pivot(index=['Base', 'Reranker', 'Optimization', 'Protected'], columns='Metric')['Value']\n",
    "experiment_data = pvt_df.reset_index()"
   ]
  },
  {
   "cell_type": "code",
   "execution_count": 59,
   "id": "f4077b51-521d-4e32-8700-8cd4dbc3b8eb",
   "metadata": {},
   "outputs": [],
   "source": [
    "experiment_data['Alg'] = experiment_data['Base']+\"+\"+experiment_data['Reranker']"
   ]
  },
  {
   "cell_type": "code",
   "execution_count": 61,
   "id": "dd801b1b-a12d-43ff-9d5b-c5181a0f8eb9",
   "metadata": {},
   "outputs": [
    {
     "data": {
      "text/html": [
       "<div>\n",
       "<style scoped>\n",
       "    .dataframe tbody tr th:only-of-type {\n",
       "        vertical-align: middle;\n",
       "    }\n",
       "\n",
       "    .dataframe tbody tr th {\n",
       "        vertical-align: top;\n",
       "    }\n",
       "\n",
       "    .dataframe thead th {\n",
       "        text-align: right;\n",
       "    }\n",
       "</style>\n",
       "<table border=\"1\" class=\"dataframe\">\n",
       "  <thead>\n",
       "    <tr style=\"text-align: right;\">\n",
       "      <th>Metric</th>\n",
       "      <th>Base</th>\n",
       "      <th>Reranker</th>\n",
       "      <th>Optimization</th>\n",
       "      <th>Protected</th>\n",
       "      <th>NDCG</th>\n",
       "      <th>PSP</th>\n",
       "      <th>Alg</th>\n",
       "    </tr>\n",
       "  </thead>\n",
       "  <tbody>\n",
       "    <tr>\n",
       "      <th>17</th>\n",
       "      <td>BMF</td>\n",
       "      <td>None</td>\n",
       "      <td>Original</td>\n",
       "      <td>None</td>\n",
       "      <td>0.0325</td>\n",
       "      <td>-0.628</td>\n",
       "      <td>BMF+None</td>\n",
       "    </tr>\n",
       "    <tr>\n",
       "      <th>43</th>\n",
       "      <td>BPR</td>\n",
       "      <td>None</td>\n",
       "      <td>Original</td>\n",
       "      <td>None</td>\n",
       "      <td>0.0658</td>\n",
       "      <td>-0.828</td>\n",
       "      <td>BPR+None</td>\n",
       "    </tr>\n",
       "    <tr>\n",
       "      <th>63</th>\n",
       "      <td>RankALS</td>\n",
       "      <td>FAR</td>\n",
       "      <td>Joint-2%</td>\n",
       "      <td>None</td>\n",
       "      <td>1.0000</td>\n",
       "      <td>2.000</td>\n",
       "      <td>RankALS+FAR</td>\n",
       "    </tr>\n",
       "    <tr>\n",
       "      <th>65</th>\n",
       "      <td>RankALS</td>\n",
       "      <td>FAR</td>\n",
       "      <td>Joint-5%</td>\n",
       "      <td>None</td>\n",
       "      <td>1.0000</td>\n",
       "      <td>2.000</td>\n",
       "      <td>RankALS+FAR</td>\n",
       "    </tr>\n",
       "    <tr>\n",
       "      <th>69</th>\n",
       "      <td>RankALS</td>\n",
       "      <td>None</td>\n",
       "      <td>Original</td>\n",
       "      <td>None</td>\n",
       "      <td>0.0554</td>\n",
       "      <td>-0.723</td>\n",
       "      <td>RankALS+None</td>\n",
       "    </tr>\n",
       "    <tr>\n",
       "      <th>95</th>\n",
       "      <td>SLIM</td>\n",
       "      <td>None</td>\n",
       "      <td>Original</td>\n",
       "      <td>None</td>\n",
       "      <td>0.0167</td>\n",
       "      <td>-0.773</td>\n",
       "      <td>SLIM+None</td>\n",
       "    </tr>\n",
       "  </tbody>\n",
       "</table>\n",
       "</div>"
      ],
      "text/plain": [
       "Metric     Base Reranker Optimization Protected    NDCG    PSP           Alg\n",
       "17          BMF     None     Original      None  0.0325 -0.628      BMF+None\n",
       "43          BPR     None     Original      None  0.0658 -0.828      BPR+None\n",
       "63      RankALS      FAR     Joint-2%      None  1.0000  2.000   RankALS+FAR\n",
       "65      RankALS      FAR     Joint-5%      None  1.0000  2.000   RankALS+FAR\n",
       "69      RankALS     None     Original      None  0.0554 -0.723  RankALS+None\n",
       "95         SLIM     None     Original      None  0.0167 -0.773     SLIM+None"
      ]
     },
     "execution_count": 61,
     "metadata": {},
     "output_type": "execute_result"
    }
   ],
   "source": [
    "experiment_data.query('Protected == \"None\"')"
   ]
  },
  {
   "cell_type": "code",
   "execution_count": 46,
   "id": "a8ef007a-6be6-4b89-8161-09cc252ffd17",
   "metadata": {},
   "outputs": [],
   "source": [
    "experiment_data.loc[experiment_data['Optimization']=='Original', 'Alg'] = experiment_data['Base']"
   ]
  },
  {
   "cell_type": "code",
   "execution_count": 62,
   "id": "4b6cfe01-6fc1-4bfc-8986-552d350408dc",
   "metadata": {
    "tags": []
   },
   "outputs": [],
   "source": [
    "exp1_df = experiment_data.query('((Protected == \"Loan Bucket 5\") | (Protected == \"None\")) & (Base == \"BMF\") & \\\n",
    "                    ((Optimization == \"Joint\") | (Optimization == \"Separate\") | (Optimization == \"Original\"))')\n",
    "\n",
    "#experiment_data[experiment_data['Protected']=='Loan Bucket 5']\n",
    "#exp2_df = experiment_data[experiment_data['Protected']=='Country']"
   ]
  },
  {
   "cell_type": "code",
   "execution_count": 63,
   "id": "150051e7-0ba5-488b-92c5-0ae37a70a52f",
   "metadata": {},
   "outputs": [
    {
     "data": {
      "text/html": [
       "<div>\n",
       "<style scoped>\n",
       "    .dataframe tbody tr th:only-of-type {\n",
       "        vertical-align: middle;\n",
       "    }\n",
       "\n",
       "    .dataframe tbody tr th {\n",
       "        vertical-align: top;\n",
       "    }\n",
       "\n",
       "    .dataframe thead th {\n",
       "        text-align: right;\n",
       "    }\n",
       "</style>\n",
       "<table border=\"1\" class=\"dataframe\">\n",
       "  <thead>\n",
       "    <tr style=\"text-align: right;\">\n",
       "      <th>Metric</th>\n",
       "      <th>Base</th>\n",
       "      <th>Reranker</th>\n",
       "      <th>Optimization</th>\n",
       "      <th>Protected</th>\n",
       "      <th>NDCG</th>\n",
       "      <th>PSP</th>\n",
       "      <th>Alg</th>\n",
       "    </tr>\n",
       "  </thead>\n",
       "  <tbody>\n",
       "    <tr>\n",
       "      <th>1</th>\n",
       "      <td>BMF</td>\n",
       "      <td>FA*IR</td>\n",
       "      <td>Joint</td>\n",
       "      <td>Loan Bucket 5</td>\n",
       "      <td>0.2920</td>\n",
       "      <td>-0.595</td>\n",
       "      <td>BMF+FA*IR</td>\n",
       "    </tr>\n",
       "    <tr>\n",
       "      <th>7</th>\n",
       "      <td>BMF</td>\n",
       "      <td>FA*IR</td>\n",
       "      <td>Separate</td>\n",
       "      <td>Loan Bucket 5</td>\n",
       "      <td>0.0341</td>\n",
       "      <td>0.106</td>\n",
       "      <td>BMF+FA*IR</td>\n",
       "    </tr>\n",
       "    <tr>\n",
       "      <th>9</th>\n",
       "      <td>BMF</td>\n",
       "      <td>FAR</td>\n",
       "      <td>Joint</td>\n",
       "      <td>Loan Bucket 5</td>\n",
       "      <td>0.0312</td>\n",
       "      <td>-0.202</td>\n",
       "      <td>BMF+FAR</td>\n",
       "    </tr>\n",
       "    <tr>\n",
       "      <th>15</th>\n",
       "      <td>BMF</td>\n",
       "      <td>FAR</td>\n",
       "      <td>Separate</td>\n",
       "      <td>Loan Bucket 5</td>\n",
       "      <td>0.0330</td>\n",
       "      <td>0.107</td>\n",
       "      <td>BMF+FAR</td>\n",
       "    </tr>\n",
       "    <tr>\n",
       "      <th>17</th>\n",
       "      <td>BMF</td>\n",
       "      <td>None</td>\n",
       "      <td>Original</td>\n",
       "      <td>None</td>\n",
       "      <td>0.0325</td>\n",
       "      <td>-0.628</td>\n",
       "      <td>BMF+None</td>\n",
       "    </tr>\n",
       "    <tr>\n",
       "      <th>19</th>\n",
       "      <td>BMF</td>\n",
       "      <td>PFAR</td>\n",
       "      <td>Joint</td>\n",
       "      <td>Loan Bucket 5</td>\n",
       "      <td>1.0000</td>\n",
       "      <td>2.000</td>\n",
       "      <td>BMF+PFAR</td>\n",
       "    </tr>\n",
       "    <tr>\n",
       "      <th>25</th>\n",
       "      <td>BMF</td>\n",
       "      <td>PFAR</td>\n",
       "      <td>Separate</td>\n",
       "      <td>Loan Bucket 5</td>\n",
       "      <td>1.0000</td>\n",
       "      <td>2.000</td>\n",
       "      <td>BMF+PFAR</td>\n",
       "    </tr>\n",
       "  </tbody>\n",
       "</table>\n",
       "</div>"
      ],
      "text/plain": [
       "Metric Base Reranker Optimization      Protected    NDCG    PSP        Alg\n",
       "1       BMF    FA*IR        Joint  Loan Bucket 5  0.2920 -0.595  BMF+FA*IR\n",
       "7       BMF    FA*IR     Separate  Loan Bucket 5  0.0341  0.106  BMF+FA*IR\n",
       "9       BMF      FAR        Joint  Loan Bucket 5  0.0312 -0.202    BMF+FAR\n",
       "15      BMF      FAR     Separate  Loan Bucket 5  0.0330  0.107    BMF+FAR\n",
       "17      BMF     None     Original           None  0.0325 -0.628   BMF+None\n",
       "19      BMF     PFAR        Joint  Loan Bucket 5  1.0000  2.000   BMF+PFAR\n",
       "25      BMF     PFAR     Separate  Loan Bucket 5  1.0000  2.000   BMF+PFAR"
      ]
     },
     "execution_count": 63,
     "metadata": {},
     "output_type": "execute_result"
    }
   ],
   "source": [
    "exp1_df"
   ]
  },
  {
   "cell_type": "code",
   "execution_count": 64,
   "id": "1dc66e7f-fe85-43eb-8e20-5dc19e57f3f5",
   "metadata": {},
   "outputs": [
    {
     "data": {
      "image/png": "[encoded data removed]",
      "text/plain": [
       "<Figure size 452.125x360 with 1 Axes>"
      ]
     },
     "metadata": {
      "needs_background": "light"
     },
     "output_type": "display_data"
    }
   ],
   "source": [
    "sb.relplot(x=\"NDCG\", y=\"PSP\", hue=\"Alg\", style=\"Optimization\", data=exp1_df, s=150)\n",
    "plt.savefig('loan_size_scatter.png', facecolor='w', edgecolor='w')"
   ]
  }
 ],
 "metadata": {
  "kernelspec": {
   "display_name": "Python 3 (ipykernel)",
   "language": "python",
   "name": "python3"
  },
  "language_info": {
   "codemirror_mode": {
    "name": "ipython",
    "version": 3
   },
   "file_extension": ".py",
   "mimetype": "text/x-python",
   "name": "python",
   "nbconvert_exporter": "python",
   "pygments_lexer": "ipython3",
   "version": "3.9.7"
  }
 },
 "nbformat": 4,
 "nbformat_minor": 5
}
